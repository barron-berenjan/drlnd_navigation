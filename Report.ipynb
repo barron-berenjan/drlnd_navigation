{
 "cells": [
  {
   "cell_type": "markdown",
   "metadata": {},
   "source": [
    "## Learning Algorithm\n",
    "\n",
    "The learning algorithm implemented for this assignment is the <a href=\"https://arxiv.org/pdf/1511.06581.pdf\">Dueling Network</a>. The architecture is similiar to a Deep Q-Network, employing the same fundamental tenets such as experience replay and fixed-Q targets. The primary difference is in the estimation of $Q$ values. Rather than estimating $Q(s,a)$  directly, the duelling network seperates the final fully connected linear layer of a a DQN into two streams: one to estimate the state value $V(s)$ and the other to estimate the advantage $A(s,a)$ of taking an action $a$ in state $s$, with $Q(s,a)$ estimated with:\n",
    "\n",
    "<br>\n",
    "\n",
    "$$Q(s,a) = V(s) + A(s,a)$$\n",
    "\n",
    "<br>\n",
    "\n",
    "The input is a state vector from the Unity ML Engine fed into a deep neural network with the below architecture:\n",
    "\n",
    "<br>\n",
    "\n",
    "\n",
    "| Layer | Input  | Output   |   \n",
    "|:-------|:--------|:----------|\n",
    "|FC1    |   37 (state space)  |  64       |   \n",
    "|FC2    |   64   |  64      |   \n",
    "|Advantage    |   64     |   4 (action space)    |  \n",
    "|Value      |  64    |   1      |   \n",
    "    \n",
    "\n",
    "\n",
    "\n",
    "####  Parameters used for training :\n",
    "\n",
    "```python\n",
    "\n",
    "BUFFER_SIZE = int(1e5), # replay buffer size\n",
    "BATCH_SIZE = 256,        # minibatch size sampled from the replay buffer\n",
    "GAMMA = 0.99,           # discount factor\n",
    "TAU = 1e-3,             # for soft update of target parameters\n",
    "LR =  5e-4,             # learning rate\n",
    "UPDATE_EVERY = 16        # how often to update the network\n",
    "\n",
    "```\n"
   ]
  },
  {
   "cell_type": "markdown",
   "metadata": {},
   "source": [
    "## Plot of Rewards\n",
    "\n",
    "Below is a plot of the agents score during training. The agent is able to collect an average reward (over 100 episodes) of at least __+13__ after __641 episodes__. In the code, the agent stops training as soon as it is able to achieve this score, but if we had left it to train longer then it would have achieved a higher score.\n",
    "\n",
    "<img src=\"img/training.png\">\n",
    "\n"
   ]
  },
  {
   "cell_type": "markdown",
   "metadata": {},
   "source": [
    "## Ideas for Future Work\n",
    "\n",
    "A few things that can be tried to improve model performance are:\n",
    "\n",
    "- hyperparamer tuning of:\n",
    "\n",
    "\n",
    "    - number of hidden cells\n",
    "    - number of hidden layers\n",
    "    - number of steps before calculating loss and updating the target network\n",
    "    - type of optimizer/ learning rate\n",
    "    - batch size\n",
    "    \n",
    "- augment the current model with <a href=\"https://arxiv.org/abs/1511.05952\"> prioritized experience replay</a> and <a href=\"https://arxiv.org/abs/1509.06461\"> double DQN </a> \n",
    "- train the agent on raw pixels using a __convnet__"
   ]
  }
 ],
 "metadata": {
  "kernelspec": {
   "display_name": "Python 3",
   "language": "python",
   "name": "python3"
  },
  "language_info": {
   "codemirror_mode": {
    "name": "ipython",
    "version": 3
   },
   "file_extension": ".py",
   "mimetype": "text/x-python",
   "name": "python",
   "nbconvert_exporter": "python",
   "pygments_lexer": "ipython3",
   "version": "3.6.10"
  }
 },
 "nbformat": 4,
 "nbformat_minor": 4
}
